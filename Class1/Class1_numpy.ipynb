{
 "cells": [
  {
   "cell_type": "code",
   "execution_count": 9,
   "id": "b7c06383",
   "metadata": {},
   "outputs": [
    {
     "data": {
      "text/plain": [
       "array([0., 0., 1., 0.])"
      ]
     },
     "execution_count": 9,
     "metadata": {},
     "output_type": "execute_result"
    }
   ],
   "source": [
    "import numpy as np\n",
    "\n",
    "#x = np.ones(12).reshape(4,3)\n",
    "#y = np.zeros(12).reshape(4,3)\n",
    "#print(x)\n",
    "#print(y)\n",
    "\n",
    "x = np.identity(4)\n",
    "#print(x)\n",
    "#x[:,2]\n",
    "\n"
   ]
  },
  {
   "cell_type": "code",
   "execution_count": 17,
   "id": "a1069948",
   "metadata": {},
   "outputs": [
    {
     "name": "stdout",
     "output_type": "stream",
     "text": [
      "[[ 7  8  9]\n",
      " [10 11 12]]\n"
     ]
    },
    {
     "data": {
      "text/plain": [
       "array([[10, 11, 12],\n",
       "       [ 7,  8,  9]])"
      ]
     },
     "execution_count": 17,
     "metadata": {},
     "output_type": "execute_result"
    }
   ],
   "source": [
    "k = [7, 8, 9, 10, 11, 12]\n",
    "x = np.array(k).reshape(2, 3)\n",
    "\n",
    "print(x)\n",
    "\n",
    "#x.transpose()\n",
    "\n",
    "np.fliplr(x)\n",
    "np.flipud(x)"
   ]
  },
  {
   "cell_type": "code",
   "execution_count": 19,
   "id": "a8a7a5cc",
   "metadata": {},
   "outputs": [
    {
     "name": "stdout",
     "output_type": "stream",
     "text": [
      "[[0 1 2]\n",
      " [3 4 5]]\n"
     ]
    }
   ],
   "source": [
    "y = np.arange(6).reshape(2, 3)\n",
    "print(y)"
   ]
  },
  {
   "cell_type": "code",
   "execution_count": 20,
   "id": "c28479ee",
   "metadata": {},
   "outputs": [
    {
     "name": "stdout",
     "output_type": "stream",
     "text": [
      "[1 3 5 7 9]\n"
     ]
    }
   ],
   "source": [
    "yy = np.arange(1, 10, 2)\n",
    "print(yy)"
   ]
  },
  {
   "cell_type": "code",
   "execution_count": 22,
   "id": "3cde7d6a",
   "metadata": {
    "scrolled": true
   },
   "outputs": [
    {
     "name": "stdout",
     "output_type": "stream",
     "text": [
      "[[0. 0. 0.]\n",
      " [0. 5. 0.]\n",
      " [0. 0. 0.]]\n"
     ]
    }
   ],
   "source": [
    "a1 = np.zeros(9).reshape(3, 3)\n",
    "a1[1, 1] = 5\n",
    "print(a1)"
   ]
  },
  {
   "cell_type": "code",
   "execution_count": 25,
   "id": "2ba8c6a4",
   "metadata": {},
   "outputs": [
    {
     "name": "stdout",
     "output_type": "stream",
     "text": [
      "[False False  True False  True False]\n"
     ]
    }
   ],
   "source": [
    "a = np.array([10, 3, 25, 2, 67, 12])\n",
    "b = np.array([43, 3, 12, 50, 7, 21])\n",
    "print(a>b)"
   ]
  },
  {
   "cell_type": "code",
   "execution_count": 33,
   "id": "2d0c9bba",
   "metadata": {},
   "outputs": [
    {
     "name": "stdout",
     "output_type": "stream",
     "text": [
      "Sum:  119\n",
      "Product:  1206000\n",
      "[ 10  13  38  40 107 119]\n",
      "[17 19 21]\n",
      "[24 33]\n"
     ]
    }
   ],
   "source": [
    "print(\"Sum: \", a.sum())\n",
    "print(\"Product: \", a.prod())\n",
    "print(a.cumsum())\n",
    "print(x.sum(axis=0))\n",
    "print(x.sum(axis=1))"
   ]
  },
  {
   "cell_type": "code",
   "execution_count": 35,
   "id": "773efa24",
   "metadata": {},
   "outputs": [
    {
     "name": "stdout",
     "output_type": "stream",
     "text": [
      "[10  3 25  2 67 12 43  3 12 50  7 21]\n"
     ]
    }
   ],
   "source": [
    "c = np.hstack((a, b))\n",
    "print(c)"
   ]
  },
  {
   "cell_type": "code",
   "execution_count": 37,
   "id": "75c6c3a2",
   "metadata": {},
   "outputs": [
    {
     "name": "stdout",
     "output_type": "stream",
     "text": [
      "[[10  3 25  2 67 12]\n",
      " [43  3 12 50  7 21]]\n"
     ]
    }
   ],
   "source": [
    "c = np.vstack((a,b))\n",
    "print(c)"
   ]
  },
  {
   "cell_type": "code",
   "execution_count": 40,
   "id": "38980428",
   "metadata": {},
   "outputs": [
    {
     "name": "stdout",
     "output_type": "stream",
     "text": [
      "[53  6 37 52 74 33]\n",
      "[-33   0  13 -48  60  -9]\n",
      "[430   9 300 100 469 252]\n",
      "[0.23255814 1.         2.08333333 0.04       9.57142857 0.57142857]\n"
     ]
    }
   ],
   "source": [
    "print(a+b)\n",
    "print(a-b)\n",
    "print(a*b)\n",
    "print(a/b)"
   ]
  },
  {
   "cell_type": "code",
   "execution_count": 43,
   "id": "21c0a087",
   "metadata": {},
   "outputs": [
    {
     "name": "stdout",
     "output_type": "stream",
     "text": [
      "[[ 100    9  625    4 4489  144]\n",
      " [ 430    9  300  100  469  252]]\n"
     ]
    }
   ],
   "source": [
    "print(c*a)"
   ]
  },
  {
   "cell_type": "code",
   "execution_count": 45,
   "id": "01eb0eee",
   "metadata": {},
   "outputs": [
    {
     "name": "stdout",
     "output_type": "stream",
     "text": [
      "[[0.9234259  0.03371305]\n",
      " [0.65006449 0.03572933]\n",
      " [0.21246738 0.2850675 ]]\n"
     ]
    }
   ],
   "source": [
    "m1 = np.random.random(6).reshape(3, 2)\n",
    "print(m1)"
   ]
  },
  {
   "cell_type": "code",
   "execution_count": null,
   "id": "e7fbfdc8",
   "metadata": {},
   "outputs": [],
   "source": []
  }
 ],
 "metadata": {
  "kernelspec": {
   "display_name": "Python 3 (ipykernel)",
   "language": "python",
   "name": "python3"
  },
  "language_info": {
   "codemirror_mode": {
    "name": "ipython",
    "version": 3
   },
   "file_extension": ".py",
   "mimetype": "text/x-python",
   "name": "python",
   "nbconvert_exporter": "python",
   "pygments_lexer": "ipython3",
   "version": "3.11.5"
  }
 },
 "nbformat": 4,
 "nbformat_minor": 5
}
