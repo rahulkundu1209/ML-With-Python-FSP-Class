{
 "cells": [
  {
   "cell_type": "code",
   "execution_count": 1,
   "id": "bd1bb69e",
   "metadata": {},
   "outputs": [],
   "source": [
    "%matplotlib inline\n",
    "import pandas\n",
    "import numpy as np"
   ]
  },
  {
   "cell_type": "code",
   "execution_count": 5,
   "id": "31da6852",
   "metadata": {},
   "outputs": [
    {
     "name": "stdout",
     "output_type": "stream",
     "text": [
      "a    0.062031\n",
      "b    0.539006\n",
      "c    0.769175\n",
      "d    0.633072\n",
      "e    0.542017\n",
      "dtype: float64\n"
     ]
    }
   ],
   "source": [
    "s = pandas.Series(np.random.random(5), index=['a', 'b', 'c', 'd', 'e'])\n",
    "print(s)"
   ]
  },
  {
   "cell_type": "code",
   "execution_count": 7,
   "id": "21bea6fc",
   "metadata": {},
   "outputs": [
    {
     "name": "stdout",
     "output_type": "stream",
     "text": [
      "0    0.661095\n",
      "1    0.435627\n",
      "2    0.387815\n",
      "3    0.392039\n",
      "4    0.426648\n",
      "dtype: float64\n"
     ]
    }
   ],
   "source": [
    "s1 = pandas.Series(np.random.random(5))\n",
    "print(s1)"
   ]
  },
  {
   "cell_type": "code",
   "execution_count": 8,
   "id": "0209360a",
   "metadata": {},
   "outputs": [
    {
     "name": "stdout",
     "output_type": "stream",
     "text": [
      "a    0\n",
      "b    4\n",
      "c    9\n",
      "dtype: int64\n"
     ]
    }
   ],
   "source": [
    "d = {'a' : 0, 'b' : 4, 'c' : 9}\n",
    "s2 = pandas.Series(d)\n",
    "print(s2)"
   ]
  },
  {
   "cell_type": "code",
   "execution_count": 11,
   "id": "aa8ab0c4",
   "metadata": {},
   "outputs": [
    {
     "name": "stdout",
     "output_type": "stream",
     "text": [
      "a    0.0\n",
      "b    4.0\n",
      "c    9.0\n",
      "d    NaN\n",
      "e    NaN\n",
      "dtype: float64\n"
     ]
    }
   ],
   "source": [
    "s3 = pandas.Series(d,  index=['a', 'b', 'c', 'd', 'e'])\n",
    "print(s3)\n",
    "#Nan: Not a Number"
   ]
  },
  {
   "cell_type": "code",
   "execution_count": 12,
   "id": "86036872",
   "metadata": {},
   "outputs": [
    {
     "name": "stdout",
     "output_type": "stream",
     "text": [
      "0    [2, 3, 4]\n",
      "1    [5, 6, 7]\n",
      "dtype: object\n"
     ]
    }
   ],
   "source": [
    "Data = [[2, 3, 4], [5, 6, 7]]\n",
    "sn = pandas.Series(Data)\n",
    "print(sn)"
   ]
  },
  {
   "cell_type": "code",
   "execution_count": 15,
   "id": "c84835a9",
   "metadata": {},
   "outputs": [
    {
     "name": "stdout",
     "output_type": "stream",
     "text": [
      "   one  two\n",
      "a  1.0    1\n",
      "b  2.0    2\n",
      "c  3.0    3\n",
      "d  NaN    4\n"
     ]
    }
   ],
   "source": [
    "d1 = {'one':pandas.Series([1, 2, 3], index = ['a', 'b', 'c']),\n",
    "     'two':pandas.Series([1, 2, 3, 4], index = ['a', 'b', 'c', 'd'])}\n",
    "df = pandas.DataFrame(d1)\n",
    "print(df)"
   ]
  },
  {
   "cell_type": "code",
   "execution_count": 16,
   "id": "f249b78f",
   "metadata": {},
   "outputs": [
    {
     "name": "stdout",
     "output_type": "stream",
     "text": [
      "   first  second\n",
      "a      1       5\n",
      "b      2       6\n",
      "c      3       7\n",
      "d      4       8\n"
     ]
    }
   ],
   "source": [
    "dict1 = {'a':1, 'b':2, 'c':3, 'd':4}\n",
    "dict2 = {'a':5, 'b':6, 'c':7, 'd':8}\n",
    "Data = {'first': dict1, 'second':dict2}\n",
    "df = pandas.DataFrame(Data)\n",
    "print(df)"
   ]
  },
  {
   "cell_type": "code",
   "execution_count": null,
   "id": "79844266",
   "metadata": {},
   "outputs": [],
   "source": []
  }
 ],
 "metadata": {
  "kernelspec": {
   "display_name": "Python 3 (ipykernel)",
   "language": "python",
   "name": "python3"
  },
  "language_info": {
   "codemirror_mode": {
    "name": "ipython",
    "version": 3
   },
   "file_extension": ".py",
   "mimetype": "text/x-python",
   "name": "python",
   "nbconvert_exporter": "python",
   "pygments_lexer": "ipython3",
   "version": "3.11.5"
  }
 },
 "nbformat": 4,
 "nbformat_minor": 5
}
